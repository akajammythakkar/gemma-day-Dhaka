{
  "cells": [
    {
      "cell_type": "markdown",
      "source": [
        "# Before proceeding, go to \"File\" and select option \"Save a copy in drive\" then and only then proceed. <br>\n",
        "# <font color=\"red\">  YOU WILL NOT BE ABLE TO SAVE CHANGES IN THIS NOTEBOOK </font>"
      ],
      "metadata": {
        "id": "JdYtHKVpchLI"
      },
      "id": "JdYtHKVpchLI"
    },
    {
      "cell_type": "markdown",
      "source": [
        "## Set the API key"
      ],
      "metadata": {
        "id": "qmDQ7rj3vQHa"
      },
      "id": "qmDQ7rj3vQHa"
    },
    {
      "cell_type": "markdown",
      "source": [
        "\n",
        "## **Add your API_KEY to the secrets manager in the left pannel \"🔑\".**\n",
        "\n",
        "#### To get api key follw the steps:\n",
        "  - go to makersuite.google.com\n",
        "  - If you are a first time user then you'll be asked for privacy and agreement\n",
        "  - After accepting navigate to the left panel.\n",
        "  - You will find a button saying \"Get API Key\" placed exactly below google ai studio, click that.\n",
        "  - Then you will be redirected to API keys page.\n",
        "  - There will be a button saying \"Create API key in new project\", click that.\n",
        "  - After that you will get your api key in few moments.\n",
        "  - Copy that and paste it in key secrets in google colab."
      ],
      "metadata": {
        "id": "V1aIkomLvP_U"
      },
      "id": "V1aIkomLvP_U"
    },
    {
      "cell_type": "code",
      "execution_count": 1,
      "id": "5a5536f0-651c-40e7-aa15-27ee0cda80b7",
      "metadata": {
        "id": "5a5536f0-651c-40e7-aa15-27ee0cda80b7"
      },
      "outputs": [],
      "source": [
        "# Importing Libraries\n",
        "import requests\n",
        "from google.colab import userdata\n",
        "import json\n",
        "from IPython.display import display, Markdown # to print the outputs in markdown\n",
        "hf_bearer = userdata.get('HuggingFaceBearer')\n",
        "API_URL = \"https://api-inference.huggingface.co/models/google/gemma-1.1-7b-it\"\n",
        "headers = {\"Authorization\": hf_bearer}"
      ]
    },
    {
      "cell_type": "code",
      "execution_count": 2,
      "id": "3731aa9d-7dec-43e7-adcd-abec44abcd97",
      "metadata": {
        "id": "3731aa9d-7dec-43e7-adcd-abec44abcd97"
      },
      "outputs": [],
      "source": [
        "# Function to start chat with google gemma 1.1\n",
        "def start_chat(message):\n",
        "    messages = {\"inputs\":f\"{message}\"}\n",
        "    response = requests.post(API_URL, headers=headers, json=messages)\n",
        "    return response.json()"
      ]
    },
    {
      "cell_type": "code",
      "source": [
        "# Lets chat\n",
        "chat = start_chat(\"Hello how are you\")\n",
        "display(Markdown(chat[0][\"generated_text\"]))"
      ],
      "metadata": {
        "id": "J6iA42Yau0NB",
        "outputId": "4408e9e3-7eb7-41b6-dc57-e9c8e68e883f",
        "colab": {
          "base_uri": "https://localhost:8080/",
          "height": 87
        }
      },
      "id": "J6iA42Yau0NB",
      "execution_count": 3,
      "outputs": [
        {
          "output_type": "display_data",
          "data": {
            "text/plain": [
              "<IPython.core.display.Markdown object>"
            ],
            "text/markdown": "Hello how are you today?\n\nI am an AI language model and do not have personal feelings or physical experiences. However, I am functioning optimally and ready to assist you with any information or task you may have. How can I help you today?"
          },
          "metadata": {}
        }
      ]
    },
    {
      "cell_type": "markdown",
      "source": [
        "<div align=\"center\">\n",
        "\n",
        "  Thank you for joining us Gemma Day Extended, hope to see you next soon!\n",
        "</div>\n",
        "\n",
        "<p align=\"center\">\n",
        "  <img src=\"https://i.pinimg.com/originals/2b/a7/17/2ba717ac010d3b9f8d26e9db4da291b8.jpg\" alt=\"X.com/akajammythakkar\" width=\"20\" height=\"20\">\n",
        "  <img src=\"https://w7.pngwing.com/pngs/521/488/png-transparent-logo-computer-icons-instagram-logo-miscellaneous-text-logo.png\" alt=\"instagram.com/akajammythakkar\" width=\"20\" height=\"20\">\n",
        "  <img src=\"https://w7.pngwing.com/pngs/490/260/png-transparent-email-email-thumbnail.png\" alt=\"akajammythakkar@gmail.com\" width=\"20\" height=\"20\">\n",
        "  <img src=\"https://w7.pngwing.com/pngs/940/589/png-transparent-linkedin-free-text-telephone-call-trademark-thumbnail.png\" alt=\"linkedin.com/in/akajammythakkar\" width=\"20\" height=\"20\">\n",
        "  <a href=\"https://imjt.dev\" target=\"_blank\">@akajammythakkar</a>\n",
        "</p>\n"
      ],
      "metadata": {
        "id": "ZcuR44UwccUO"
      },
      "id": "ZcuR44UwccUO"
    },
    {
      "cell_type": "code",
      "source": [],
      "metadata": {
        "id": "dH5QX_D9cdE5"
      },
      "id": "dH5QX_D9cdE5",
      "execution_count": null,
      "outputs": []
    }
  ],
  "metadata": {
    "kernelspec": {
      "display_name": "Python 3 (ipykernel)",
      "language": "python",
      "name": "python3"
    },
    "language_info": {
      "codemirror_mode": {
        "name": "ipython",
        "version": 3
      },
      "file_extension": ".py",
      "mimetype": "text/x-python",
      "name": "python",
      "nbconvert_exporter": "python",
      "pygments_lexer": "ipython3",
      "version": "3.10.13"
    },
    "colab": {
      "provenance": []
    }
  },
  "nbformat": 4,
  "nbformat_minor": 5
}